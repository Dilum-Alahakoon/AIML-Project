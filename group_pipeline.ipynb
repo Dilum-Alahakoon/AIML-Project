{
  "nbformat": 4,
  "nbformat_minor": 0,
  "metadata": {
    "colab": {
      "private_outputs": true,
      "provenance": []
    },
    "kernelspec": {
      "name": "python3",
      "display_name": "Python 3"
    },
    "language_info": {
      "name": "python"
    }
  },
  "cells": [
    {
      "cell_type": "markdown",
      "source": [
        "# Group Pipeline"
      ],
      "metadata": {
        "id": "yG3W_pVEC41S"
      }
    },
    {
      "cell_type": "markdown",
      "source": [
        "## Data Loading"
      ],
      "metadata": {
        "id": "fDLmUIUcDCcG"
      }
    },
    {
      "cell_type": "code",
      "source": [
        "import warnings\n",
        "warnings.filterwarnings('ignore')"
      ],
      "metadata": {
        "id": "yrh2yrZLDI32"
      },
      "execution_count": null,
      "outputs": []
    },
    {
      "cell_type": "code",
      "source": [
        "# Import Libraries\n",
        "import pandas as pd\n",
        "import numpy as np"
      ],
      "metadata": {
        "id": "CnqYffwsDQHH"
      },
      "execution_count": null,
      "outputs": []
    },
    {
      "cell_type": "code",
      "source": [
        "# Import the dataset\n",
        "data=pd.read_csv(\"https://raw.githubusercontent.com/Dilum-Alahakoon/AIML-Project/refs/heads/main/data/raw/post_pandemic_remote_work_health_impact_2025.csv\")\n",
        "\n",
        "# Converting to a dataframe\n",
        "data_df=pd.DataFrame(data)\n",
        "\n"
      ],
      "metadata": {
        "id": "1XAai6i-DReE"
      },
      "execution_count": null,
      "outputs": []
    },
    {
      "cell_type": "code",
      "source": [
        "# Display the first five rows\n",
        "data_df.head()"
      ],
      "metadata": {
        "id": "wGWOwB9SDTAE"
      },
      "execution_count": null,
      "outputs": []
    },
    {
      "cell_type": "code",
      "source": [
        "# Display the last five rows\n",
        "data_df.tail()"
      ],
      "metadata": {
        "id": "Zga5P5lLDUml"
      },
      "execution_count": null,
      "outputs": []
    },
    {
      "cell_type": "code",
      "source": [
        "# Shape of the dataset\n",
        "\n",
        "print(f\"Shape of the dataset: {data_df.shape}\")\n",
        "print(f\"Number of rows : {data_df.shape[0]}\")\n",
        "print(f\"Number of rows : {data_df.shape[1]}\")"
      ],
      "metadata": {
        "id": "X44LJ8gCDYXE"
      },
      "execution_count": null,
      "outputs": []
    },
    {
      "cell_type": "code",
      "source": [
        "# Dataset Information\n",
        "data_df.info()"
      ],
      "metadata": {
        "id": "2RmWG4maDaaM"
      },
      "execution_count": null,
      "outputs": []
    },
    {
      "cell_type": "code",
      "source": [
        "# Descriptive statistics of numerical data in dataset\n",
        "data_df.describe()"
      ],
      "metadata": {
        "id": "n4LFkhB3DcNM"
      },
      "execution_count": null,
      "outputs": []
    },
    {
      "cell_type": "code",
      "source": [
        "data_df['Mental_Health_Status'].value_counts()"
      ],
      "metadata": {
        "id": "GYbNxkH2DeT8"
      },
      "execution_count": null,
      "outputs": []
    },
    {
      "cell_type": "code",
      "source": [
        "import matplotlib.pyplot as plt\n",
        "\n",
        "ax = data_df.hist(\n",
        "    bins=50,\n",
        "    figsize=(20, 10),\n",
        "    color='skyblue',\n",
        "    edgecolor='black',\n",
        "    grid=False\n",
        ")\n",
        "\n",
        "\n",
        "for a in ax.ravel():\n",
        "    a.set_facecolor(\"#f9f9f9\")\n",
        "    a.grid(True, linestyle='--', alpha=0.5)\n",
        "    a.tick_params(axis='x', labelsize=10)\n",
        "    a.tick_params(axis='y', labelsize=10)\n",
        "    a.set_title(a.get_title(), fontsize=12, fontweight='bold')\n",
        "\n",
        "\n",
        "plt.suptitle(\"Feature Distributions\", fontsize=20, fontweight='bold', y=1.02)\n",
        "plt.tight_layout()\n",
        "plt.show()"
      ],
      "metadata": {
        "id": "Ruwm-xbFDgg9"
      },
      "execution_count": null,
      "outputs": []
    },
    {
      "cell_type": "code",
      "source": [
        "categorical_features=data_df.select_dtypes(include=['object']).columns.tolist()\n",
        "numerical_features=data_df.select_dtypes(include=[np.number]).columns.tolist()\n",
        "print(f\"Categorical Features: {categorical_features}\\n\")\n",
        "print(f\"Numerical Features: {numerical_features}\")"
      ],
      "metadata": {
        "id": "61hzOzc0DiX4"
      },
      "execution_count": null,
      "outputs": []
    },
    {
      "cell_type": "code",
      "source": [
        "for col in categorical_features:\n",
        "  print(data_df[col].value_counts())\n",
        "  print()"
      ],
      "metadata": {
        "id": "TGvxCfpgDkqa"
      },
      "execution_count": null,
      "outputs": []
    },
    {
      "cell_type": "code",
      "source": [
        "import seaborn as sns\n",
        "\n",
        "for col in categorical_features:\n",
        "  plt.figure(figsize=(8,4))\n",
        "  sns.countplot(y=col,data=data_df,order=data_df[col].value_counts().index,palette='viridis')\n",
        "  plt.title(f\"Distribution of {col}\")\n",
        "  plt.tight_layout()\n",
        "  plt.show()"
      ],
      "metadata": {
        "id": "aJ9iV1bADrZm"
      },
      "execution_count": null,
      "outputs": []
    },
    {
      "cell_type": "markdown",
      "source": [
        "## Handling Missing Data"
      ],
      "metadata": {
        "id": "li5i0SpBDuEi"
      }
    },
    {
      "cell_type": "code",
      "source": [
        "# Identifying the missing data\n",
        "\n",
        "data_df.isnull().sum()"
      ],
      "metadata": {
        "id": "QeqYDEwIEASi"
      },
      "execution_count": null,
      "outputs": []
    },
    {
      "cell_type": "code",
      "source": [
        "# Heatmap for missing values\n",
        "\n",
        "import seaborn as sns\n",
        "plt.figure(figsize=(12,6))\n",
        "sns.heatmap(data_df.isnull(),cbar=False)\n",
        "plt.title(\"Missing Values Heatmap\")\n",
        "plt.show()\n",
        "\n",
        "missing_counts=data_df.isnull().sum().sort_values(ascending=False)\n",
        "print(missing_counts[missing_counts>0])"
      ],
      "metadata": {
        "id": "rapR_PJtECJb"
      },
      "execution_count": null,
      "outputs": []
    },
    {
      "cell_type": "code",
      "source": [
        "# Bar graph for the missing values\n",
        "\n",
        "missing_counts=data_df.isnull().sum()\n",
        "missing_cols=missing_counts[missing_counts>0].sort_values(ascending=False)\n",
        "\n",
        "if len(missing_cols)==0:\n",
        "  print(\"No missing values in the dataset!\")\n",
        "else:\n",
        "  plt.figure(figsize=(10,6))\n",
        "  sns.barplot(x=missing_cols.index, y=missing_cols.values,palette='viridis')\n",
        "  plt.xticks(rotation=45,ha='right')\n",
        "  plt.ylabel('Number of Missing Values')\n",
        "  plt.title('Missing Values Count by Feature')\n",
        "  plt.tight_layout()\n",
        "  plt.show()"
      ],
      "metadata": {
        "id": "YS2PPo3dED6i"
      },
      "execution_count": null,
      "outputs": []
    },
    {
      "cell_type": "code",
      "source": [
        "# Drop the missing values of the target variable(Mental Helth Status)\n",
        "\n",
        "data_df.dropna(subset=['Mental_Health_Status'],inplace=True)"
      ],
      "metadata": {
        "id": "VJvN-EOHEF-C"
      },
      "execution_count": null,
      "outputs": []
    },
    {
      "cell_type": "code",
      "source": [
        "data_df.isnull().sum()"
      ],
      "metadata": {
        "id": "PRVMxQTXEIAc"
      },
      "execution_count": null,
      "outputs": []
    },
    {
      "cell_type": "code",
      "source": [
        "# data shape after removing the missing values of the target variable\n",
        "\n",
        "print(f\"\\nNumber of rows & columns after removing the missing values of the target variable: {data_df.shape}\")"
      ],
      "metadata": {
        "id": "tHdUeX80ELfU"
      },
      "execution_count": null,
      "outputs": []
    },
    {
      "cell_type": "code",
      "source": [
        "# hetamap after removing the missing values of the target variable\n",
        "\n",
        "import seaborn as sns\n",
        "plt.figure(figsize=(12,6))\n",
        "sns.heatmap(data_df.isnull(),cbar=False)\n",
        "plt.title('Missing Values Heatmap')\n",
        "plt.show()\n",
        "\n",
        "\n",
        "missing_counts=data_df.isnull().sum().sort_values(ascending=False)\n",
        "print(missing_counts[missing_counts>0])"
      ],
      "metadata": {
        "id": "cfOZ_ipuEQXd"
      },
      "execution_count": null,
      "outputs": []
    },
    {
      "cell_type": "code",
      "source": [
        "# Bar graph after removing the target variable (Mental Health Status) missing values\n",
        "\n",
        "missing_counts=data_df.isnull().sum()\n",
        "missing_cols=missing_counts[missing_counts>0].sort_values(ascending=False)\n",
        "\n",
        "if len(missing_cols)==0:\n",
        "  print(\"No missing values in the dataset!\")\n",
        "else:\n",
        "  plt.figure(figsize=(10,6))\n",
        "  sns.barplot(x=missing_cols.index, y=missing_cols.values,palette='viridis')\n",
        "  plt.xticks(rotation=45,ha='right')\n",
        "  plt.ylabel('Number of Missing Values')\n",
        "  plt.title('Missing Values Count by Feature')\n",
        "  plt.tight_layout()\n",
        "  plt.show()"
      ],
      "metadata": {
        "id": "cmrm8a9CESJY"
      },
      "execution_count": null,
      "outputs": []
    },
    {
      "cell_type": "markdown",
      "source": [
        "After removing the missing values of the target variable there are 203 missing values in the Phisical Health Issues because of that we need to handle that missing values"
      ],
      "metadata": {
        "id": "HB13489mEWl0"
      }
    },
    {
      "cell_type": "code",
      "source": [
        "# getting the count of the physical health issues count\n",
        "\n",
        "data_df['Physical_Health_Issues'].value_counts()"
      ],
      "metadata": {
        "id": "sVAvX8kcEUUP"
      },
      "execution_count": null,
      "outputs": []
    },
    {
      "cell_type": "code",
      "source": [
        "X=data_df.drop(labels=['Physical_Health_Issues'],axis=1)\n",
        "y=data_df['Mental_Health_Status']"
      ],
      "metadata": {
        "id": "yGq8AZ8FEbnC"
      },
      "execution_count": null,
      "outputs": []
    },
    {
      "cell_type": "code",
      "source": [
        "numerical_features=X.select_dtypes(include=[np.number]).columns.tolist()"
      ],
      "metadata": {
        "id": "MJlIozhbEd3N"
      },
      "execution_count": null,
      "outputs": []
    },
    {
      "cell_type": "code",
      "source": [
        "# creating a new dataframe only using numerical features\n",
        "test_dataframe=pd.DataFrame(X[numerical_features])"
      ],
      "metadata": {
        "id": "PQ9hj_xEEfZX"
      },
      "execution_count": null,
      "outputs": []
    },
    {
      "cell_type": "code",
      "source": [
        "# to this dataframe attaching the target variable as Physical_Health_Issues\n",
        "test_dataframe['target']=data_df['Physical_Health_Issues']"
      ],
      "metadata": {
        "id": "so9QafkyFBOy"
      },
      "execution_count": null,
      "outputs": []
    },
    {
      "cell_type": "code",
      "source": [
        "test_dataframe.head()"
      ],
      "metadata": {
        "id": "d7ijTD_YEhBU"
      },
      "execution_count": null,
      "outputs": []
    },
    {
      "cell_type": "code",
      "source": [
        "# calculating the missing values in the new dataframe\n",
        "# here in the data frame in the target variable there are 208 missing values\n",
        "\n",
        "test_dataframe.isnull().sum()"
      ],
      "metadata": {
        "id": "QiU2fw_hEiaO"
      },
      "execution_count": null,
      "outputs": []
    },
    {
      "cell_type": "code",
      "source": [
        "# here i split the newly formed dataset into two parts known part contain the rows with not missing values in the target variable and missing part it contains rows with missing values in the target variable\n",
        "\n",
        "known=test_dataframe[test_dataframe['target'].notna()]\n",
        "missing=test_dataframe[test_dataframe['target'].isna()]"
      ],
      "metadata": {
        "id": "-HeWZFwJEl5A"
      },
      "execution_count": null,
      "outputs": []
    },
    {
      "cell_type": "code",
      "source": [
        "known.head()"
      ],
      "metadata": {
        "id": "xY8c9YAdEnuK"
      },
      "execution_count": null,
      "outputs": []
    },
    {
      "cell_type": "code",
      "source": [
        "# here in the known column we are split into input and and predicting variable\n",
        "\n",
        "mis_X=known.drop('target',axis=1)\n",
        "mis_y=known['target']"
      ],
      "metadata": {
        "id": "nwj-cmpUFTX3"
      },
      "execution_count": null,
      "outputs": []
    },
    {
      "cell_type": "code",
      "source": [
        "# using randomforest classifier to train a model using abobe splitted data\n",
        "\n",
        "from sklearn.ensemble import RandomForestClassifier\n",
        "\n",
        "model=RandomForestClassifier(random_state=42)\n",
        "model.fit(mis_X,mis_y)"
      ],
      "metadata": {
        "id": "ld-jFRZEFVcr"
      },
      "execution_count": null,
      "outputs": []
    },
    {
      "cell_type": "code",
      "source": [
        "# seperating the unknown part and drop the target variable\n",
        "X_unknown=missing.drop('target',axis=1)\n",
        "\n",
        "# predicting the values for X_unknown\n",
        "predicted=model.predict(X_unknown)"
      ],
      "metadata": {
        "id": "OjOVumWXFXRa"
      },
      "execution_count": null,
      "outputs": []
    },
    {
      "cell_type": "code",
      "source": [
        "# attaching the predicted part to the dataframe\n",
        "\n",
        "test_dataframe.loc[test_dataframe['target'].isna(),'target']=predicted"
      ],
      "metadata": {
        "id": "dacFVK6DFaG9"
      },
      "execution_count": null,
      "outputs": []
    },
    {
      "cell_type": "code",
      "source": [
        "data_df.drop('Physical_Health_Issues',axis=1,inplace=True)"
      ],
      "metadata": {
        "id": "mR8NxOdzFb0G"
      },
      "execution_count": null,
      "outputs": []
    },
    {
      "cell_type": "code",
      "source": [
        "data_df['Physical_Health_Issues']=test_dataframe['target']"
      ],
      "metadata": {
        "id": "KSSKBcb0Feud"
      },
      "execution_count": null,
      "outputs": []
    },
    {
      "cell_type": "code",
      "source": [
        "data_df['Physical_Health_Issues'].value_counts()"
      ],
      "metadata": {
        "id": "GXDxkYxbFiFy"
      },
      "execution_count": null,
      "outputs": []
    },
    {
      "cell_type": "code",
      "source": [
        "# After removing the missing values\n",
        "\n",
        "data_df.isnull().sum()\n",
        "\n"
      ],
      "metadata": {
        "id": "CPiCZa1uGH5X"
      },
      "execution_count": null,
      "outputs": []
    },
    {
      "cell_type": "markdown",
      "source": [
        "After predict the missing values from the numerical features there are no null values in the physical health issues feature and there are no null values in other fields also"
      ],
      "metadata": {
        "id": "WftVMDNuFlNi"
      }
    },
    {
      "cell_type": "code",
      "source": [],
      "metadata": {
        "id": "fANZFU6IGTtY"
      },
      "execution_count": null,
      "outputs": []
    }
  ]
}