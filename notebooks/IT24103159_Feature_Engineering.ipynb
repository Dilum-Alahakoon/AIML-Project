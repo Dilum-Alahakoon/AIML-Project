{
  "cells": [
    {
      "cell_type": "code",
      "execution_count": null,
      "metadata": {
        "colab": {
          "background_save": true
        },
        "id": "FEwMJ79_3Mj1",
        "outputId": "f36559b7-d1e6-4c0a-8965-df29d3ad983f"
      },
      "outputs": [
        {
          "name": "stdout",
          "output_type": "stream",
          "text": [
            "Mounted at /content/drive\n"
          ]
        }
      ],
      "source": [
        "from google.colab import drive\n",
        "drive.mount('/content/drive')"
      ]
    },
    {
      "cell_type": "code",
      "execution_count": null,
      "metadata": {
        "colab": {
          "base_uri": "https://localhost:8080/"
        },
        "id": "Lm4IXgHp2ojs",
        "outputId": "7df4e941-5ef9-46ca-a498-82f5d8ff573a"
      },
      "outputs": [
        {
          "name": "stdout",
          "output_type": "stream",
          "text": [
            "data  notebooks  results\n"
          ]
        }
      ],
      "source": [
        "!ls \"/content/drive/MyDrive/2025-Y2-S1-KU-40\""
      ]
    },
    {
      "cell_type": "code",
      "execution_count": null,
      "metadata": {
        "id": "22oeSb8G300I"
      },
      "outputs": [],
      "source": [
        "# Importing necessary libraries\n",
        "import pandas as pd\n",
        "import numpy as np"
      ]
    },
    {
      "cell_type": "code",
      "execution_count": null,
      "metadata": {
        "id": "IlhMczfK3_IZ"
      },
      "outputs": [],
      "source": [
        "# Providing the file path of the dataset (This path is now the Google Drive path)\n",
        "file_path = '/content/drive/MyDrive/2025-Y2-S1-KU-40/data/raw/post_pandemic_remote_work_health_impact_2025.csv'"
      ]
    },
    {
      "cell_type": "code",
      "execution_count": null,
      "metadata": {
        "colab": {
          "base_uri": "https://localhost:8080/",
          "height": 219
        },
        "id": "onWa6Pgh4Tpc",
        "outputId": "ad21fb08-92f4-42d8-de87-70a3c8c58d4e"
      },
      "outputs": [
        {
          "ename": "NameError",
          "evalue": "name 'pd' is not defined",
          "output_type": "error",
          "traceback": [
            "\u001b[0;31m---------------------------------------------------------------------------\u001b[0m",
            "\u001b[0;31mNameError\u001b[0m                                 Traceback (most recent call last)",
            "\u001b[0;32m/tmp/ipython-input-665197494.py\u001b[0m in \u001b[0;36m<cell line: 0>\u001b[0;34m()\u001b[0m\n\u001b[1;32m      1\u001b[0m \u001b[0;31m# Loading the CSV file into a pandas DataFrame\u001b[0m\u001b[0;34m\u001b[0m\u001b[0;34m\u001b[0m\u001b[0m\n\u001b[1;32m      2\u001b[0m \u001b[0;32mtry\u001b[0m\u001b[0;34m:\u001b[0m\u001b[0;34m\u001b[0m\u001b[0;34m\u001b[0m\u001b[0m\n\u001b[0;32m----> 3\u001b[0;31m     \u001b[0mdf\u001b[0m \u001b[0;34m=\u001b[0m \u001b[0mpd\u001b[0m\u001b[0;34m.\u001b[0m\u001b[0mread_csv\u001b[0m\u001b[0;34m(\u001b[0m\u001b[0mfile_path\u001b[0m\u001b[0;34m)\u001b[0m\u001b[0;34m\u001b[0m\u001b[0;34m\u001b[0m\u001b[0m\n\u001b[0m\u001b[1;32m      4\u001b[0m     \u001b[0mprint\u001b[0m\u001b[0;34m(\u001b[0m\u001b[0;34m\"Dataset successfully loaded from Google Drive!\"\u001b[0m\u001b[0;34m)\u001b[0m\u001b[0;34m\u001b[0m\u001b[0;34m\u001b[0m\u001b[0m\n\u001b[1;32m      5\u001b[0m \u001b[0;32mexcept\u001b[0m \u001b[0mFileNotFoundError\u001b[0m\u001b[0;34m:\u001b[0m\u001b[0;34m\u001b[0m\u001b[0;34m\u001b[0m\u001b[0m\n",
            "\u001b[0;31mNameError\u001b[0m: name 'pd' is not defined"
          ]
        }
      ],
      "source": [
        "# Loading the CSV file into a pandas DataFrame\n",
        "try:\n",
        "    df = pd.read_csv(file_path)\n",
        "    print(\"Dataset successfully loaded from Google Drive!\")\n",
        "except FileNotFoundError:\n",
        "    print(f\"Error: File not found at {file_path}\")\n",
        "    print(\"Please check the folder names and file name.\")\n",
        "\n",
        "# Shape of the dataset\n",
        "print(f\"Shape of the dataset: {df.shape}\")\n",
        "print(f\"Number of rows : {df.shape[0]}\")\n",
        "print(f\"Number of columns : {df.shape[1]}\")"
      ]
    },
    {
      "cell_type": "code",
      "execution_count": null,
      "metadata": {
        "colab": {
          "base_uri": "https://localhost:8080/"
        },
        "id": "If0c7_GJ4l99",
        "outputId": "f99b2af3-169b-4f9c-d409-242938574800"
      },
      "outputs": [
        {
          "name": "stdout",
          "output_type": "stream",
          "text": [
            "\n",
            "--- First 5 rows of the dataset: ---\n",
            "  Survey_Date  Age  Gender         Region               Industry  \\\n",
            "0  2025-06-01   27  Female           Asia  Professional Services   \n",
            "1  2025-06-01   37  Female           Asia  Professional Services   \n",
            "2  2025-06-01   32  Female         Africa              Education   \n",
            "3  2025-06-01   40  Female         Europe              Education   \n",
            "4  2025-06-01   30    Male  South America          Manufacturing   \n",
            "\n",
            "           Job_Role Work_Arrangement  Hours_Per_Week Mental_Health_Status  \\\n",
            "0      Data Analyst           Onsite              64      Stress Disorder   \n",
            "1      Data Analyst           Onsite              37      Stress Disorder   \n",
            "2  Business Analyst           Onsite              36                 ADHD   \n",
            "3      Data Analyst           Onsite              63                 ADHD   \n",
            "4   DevOps Engineer           Hybrid              65                  NaN   \n",
            "\n",
            "  Burnout_Level  Work_Life_Balance_Score     Physical_Health_Issues  \\\n",
            "0          High                        3   Shoulder Pain; Neck Pain   \n",
            "1          High                        4                  Back Pain   \n",
            "2          High                        3  Shoulder Pain; Eye Strain   \n",
            "3        Medium                        1  Shoulder Pain; Eye Strain   \n",
            "4        Medium                        5                        NaN   \n",
            "\n",
            "   Social_Isolation_Score Salary_Range  \n",
            "0                       2     $40K-60K  \n",
            "1                       2    $80K-100K  \n",
            "2                       2    $80K-100K  \n",
            "3                       2     $60K-80K  \n",
            "4                       4     $60K-80K  \n",
            "\n",
            "--- Dataset Info (Columns, Data Types, Non-null counts): ---\n",
            "<class 'pandas.core.frame.DataFrame'>\n",
            "RangeIndex: 3157 entries, 0 to 3156\n",
            "Data columns (total 14 columns):\n",
            " #   Column                   Non-Null Count  Dtype \n",
            "---  ------                   --------------  ----- \n",
            " 0   Survey_Date              3157 non-null   object\n",
            " 1   Age                      3157 non-null   int64 \n",
            " 2   Gender                   3157 non-null   object\n",
            " 3   Region                   3157 non-null   object\n",
            " 4   Industry                 3157 non-null   object\n",
            " 5   Job_Role                 3157 non-null   object\n",
            " 6   Work_Arrangement         3157 non-null   object\n",
            " 7   Hours_Per_Week           3157 non-null   int64 \n",
            " 8   Mental_Health_Status     2358 non-null   object\n",
            " 9   Burnout_Level            3157 non-null   object\n",
            " 10  Work_Life_Balance_Score  3157 non-null   int64 \n",
            " 11  Physical_Health_Issues   2877 non-null   object\n",
            " 12  Social_Isolation_Score   3157 non-null   int64 \n",
            " 13  Salary_Range             3157 non-null   object\n",
            "dtypes: int64(4), object(10)\n",
            "memory usage: 345.4+ KB\n"
          ]
        }
      ],
      "source": [
        "# Viewing the basic details of the dataset\n",
        "if 'df' in locals():\n",
        "    print(\"\\n--- First 5 rows of the dataset: ---\")\n",
        "    print(df.head())\n",
        "\n",
        "    print(\"\\n--- Dataset Info (Columns, Data Types, Non-null counts): ---\")\n",
        "    df.info()"
      ]
    },
    {
      "cell_type": "code",
      "execution_count": null,
      "metadata": {
        "colab": {
          "base_uri": "https://localhost:8080/",
          "height": 219
        },
        "id": "XqbNOIyokTmt",
        "outputId": "dbdc6d0a-9586-43e7-9315-449799aa124a"
      },
      "outputs": [
        {
          "ename": "NameError",
          "evalue": "name 'df' is not defined",
          "output_type": "error",
          "traceback": [
            "\u001b[0;31m---------------------------------------------------------------------------\u001b[0m",
            "\u001b[0;31mNameError\u001b[0m                                 Traceback (most recent call last)",
            "\u001b[0;32m/tmp/ipython-input-3802349222.py\u001b[0m in \u001b[0;36m<cell line: 0>\u001b[0;34m()\u001b[0m\n\u001b[1;32m      1\u001b[0m \u001b[0;31m# Shape of the dataset\u001b[0m\u001b[0;34m\u001b[0m\u001b[0;34m\u001b[0m\u001b[0m\n\u001b[1;32m      2\u001b[0m \u001b[0;34m\u001b[0m\u001b[0m\n\u001b[0;32m----> 3\u001b[0;31m \u001b[0mprint\u001b[0m\u001b[0;34m(\u001b[0m\u001b[0;34mf\"Shape of the dataset: {df.shape}\"\u001b[0m\u001b[0;34m)\u001b[0m\u001b[0;34m\u001b[0m\u001b[0;34m\u001b[0m\u001b[0m\n\u001b[0m\u001b[1;32m      4\u001b[0m \u001b[0mprint\u001b[0m\u001b[0;34m(\u001b[0m\u001b[0;34mf\"Number of rows : {df.shape[0]}\"\u001b[0m\u001b[0;34m)\u001b[0m\u001b[0;34m\u001b[0m\u001b[0;34m\u001b[0m\u001b[0m\n\u001b[1;32m      5\u001b[0m \u001b[0mprint\u001b[0m\u001b[0;34m(\u001b[0m\u001b[0;34mf\"Number of rows : {df.shape[1]}\"\u001b[0m\u001b[0;34m)\u001b[0m\u001b[0;34m\u001b[0m\u001b[0;34m\u001b[0m\u001b[0m\n",
            "\u001b[0;31mNameError\u001b[0m: name 'df' is not defined"
          ]
        }
      ],
      "source": [
        "# Shape of the dataset\n",
        "\n",
        "print(f\"Shape of the dataset: {df.shape}\")\n",
        "print(f\"Number of rows : {df.shape[0]}\")\n",
        "print(f\"Number of rows : {df.shape[1]}\")"
      ]
    },
    {
      "cell_type": "code",
      "execution_count": null,
      "metadata": {
        "colab": {
          "base_uri": "https://localhost:8080/",
          "height": 219
        },
        "id": "c58f1c96",
        "outputId": "51d580bb-d498-4b2e-deaa-77504b44e4eb"
      },
      "outputs": [
        {
          "ename": "NameError",
          "evalue": "name 'pd' is not defined",
          "output_type": "error",
          "traceback": [
            "\u001b[0;31m---------------------------------------------------------------------------\u001b[0m",
            "\u001b[0;31mNameError\u001b[0m                                 Traceback (most recent call last)",
            "\u001b[0;32m/tmp/ipython-input-1660184010.py\u001b[0m in \u001b[0;36m<cell line: 0>\u001b[0;34m()\u001b[0m\n\u001b[1;32m      1\u001b[0m \u001b[0;31m# Loading the CSV file into a pandas DataFrame\u001b[0m\u001b[0;34m\u001b[0m\u001b[0;34m\u001b[0m\u001b[0m\n\u001b[1;32m      2\u001b[0m \u001b[0;32mtry\u001b[0m\u001b[0;34m:\u001b[0m\u001b[0;34m\u001b[0m\u001b[0;34m\u001b[0m\u001b[0m\n\u001b[0;32m----> 3\u001b[0;31m     \u001b[0mdf\u001b[0m \u001b[0;34m=\u001b[0m \u001b[0mpd\u001b[0m\u001b[0;34m.\u001b[0m\u001b[0mread_csv\u001b[0m\u001b[0;34m(\u001b[0m\u001b[0mfile_path\u001b[0m\u001b[0;34m)\u001b[0m\u001b[0;34m\u001b[0m\u001b[0;34m\u001b[0m\u001b[0m\n\u001b[0m\u001b[1;32m      4\u001b[0m     \u001b[0mprint\u001b[0m\u001b[0;34m(\u001b[0m\u001b[0;34m\"Dataset successfully loaded from Google Drive!\"\u001b[0m\u001b[0;34m)\u001b[0m\u001b[0;34m\u001b[0m\u001b[0;34m\u001b[0m\u001b[0m\n\u001b[1;32m      5\u001b[0m \u001b[0;32mexcept\u001b[0m \u001b[0mFileNotFoundError\u001b[0m\u001b[0;34m:\u001b[0m\u001b[0;34m\u001b[0m\u001b[0;34m\u001b[0m\u001b[0m\n",
            "\u001b[0;31mNameError\u001b[0m: name 'pd' is not defined"
          ]
        }
      ],
      "source": [
        "# Loading the CSV file into a pandas DataFrame\n",
        "try:\n",
        "    df = pd.read_csv(file_path)\n",
        "    print(\"Dataset successfully loaded from Google Drive!\")\n",
        "except FileNotFoundError:\n",
        "    print(f\"Error: File not found at {file_path}\")\n",
        "    print(\"Please check the folder names and file name.\")\n",
        "\n",
        "# Shape of the dataset\n",
        "print(f\"Shape of the dataset: {df.shape}\")\n",
        "print(f\"Number of rows : {df.shape[0]}\")\n",
        "print(f\"Number of columns : {df.shape[1]}\")"
      ]
    }
  ],
  "metadata": {
    "colab": {
      "provenance": []
    },
    "kernelspec": {
      "display_name": "Python 3",
      "name": "python3"
    },
    "language_info": {
      "name": "python"
    }
  },
  "nbformat": 4,
  "nbformat_minor": 0
}