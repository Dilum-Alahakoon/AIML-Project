{
  "nbformat": 4,
  "nbformat_minor": 0,
  "metadata": {
    "colab": {
      "private_outputs": true,
      "provenance": []
    },
    "kernelspec": {
      "name": "python3",
      "display_name": "Python 3"
    },
    "language_info": {
      "name": "python"
    }
  },
  "cells": [
    {
      "cell_type": "markdown",
      "source": [
        "## Data Loading"
      ],
      "metadata": {
        "id": "fFJw8EO4jZWL"
      }
    },
    {
      "cell_type": "code",
      "source": [
        "import warnings\n",
        "warnings.filterwarnings('ignore')"
      ],
      "metadata": {
        "id": "2z3AdFf9kwOP"
      },
      "execution_count": null,
      "outputs": []
    },
    {
      "cell_type": "code",
      "source": [
        "# Import Libraries\n",
        "import pandas as pd\n",
        "import numpy as np"
      ],
      "metadata": {
        "id": "jDcSaYfOlCLs"
      },
      "execution_count": null,
      "outputs": []
    },
    {
      "cell_type": "code",
      "source": [
        "# Import the dataset\n",
        "data=pd.read_csv(\"https://raw.githubusercontent.com/Dilum-Alahakoon/AIML-Project/refs/heads/main/data/post_pandemic_remote_work_health_impact_2025.csv\")\n",
        "\n",
        "# Converting to a dataframe\n",
        "data_df=pd.DataFrame(data)\n",
        "\n"
      ],
      "metadata": {
        "id": "8UV0ilWflIdj"
      },
      "execution_count": null,
      "outputs": []
    },
    {
      "cell_type": "code",
      "source": [
        "# Display the first five rows\n",
        "data_df.head()"
      ],
      "metadata": {
        "id": "1XnlD7M3lSrS"
      },
      "execution_count": null,
      "outputs": []
    },
    {
      "cell_type": "code",
      "source": [
        "# Display the last five rows\n",
        "data_df.tail()"
      ],
      "metadata": {
        "id": "KWnLEzlulSY8"
      },
      "execution_count": null,
      "outputs": []
    },
    {
      "cell_type": "code",
      "source": [
        "# Shape of the dataset\n",
        "\n",
        "print(f\"Shape of the dataset: {data_df.shape}\")\n",
        "print(f\"Number of rows : {data_df.shape[0]}\")\n",
        "print(f\"Number of rows : {data_df.shape[1]}\")"
      ],
      "metadata": {
        "id": "xuptR4eUlkOx"
      },
      "execution_count": null,
      "outputs": []
    },
    {
      "cell_type": "code",
      "source": [
        "# Dataset Information\n",
        "data_df.info()"
      ],
      "metadata": {
        "id": "VodzyI85lmvc"
      },
      "execution_count": null,
      "outputs": []
    },
    {
      "cell_type": "code",
      "source": [
        "# Descriptive statistics of numerical data in dataset\n",
        "data_df.describe()"
      ],
      "metadata": {
        "id": "VwtAaS2flp2q"
      },
      "execution_count": null,
      "outputs": []
    },
    {
      "cell_type": "code",
      "source": [
        "data_df.columns"
      ],
      "metadata": {
        "id": "no62Cm-8luWE"
      },
      "execution_count": null,
      "outputs": []
    },
    {
      "cell_type": "code",
      "source": [
        "data_df['Mental_Health_Status'].value_counts()"
      ],
      "metadata": {
        "id": "t-h7_F2OlxhT"
      },
      "execution_count": null,
      "outputs": []
    },
    {
      "cell_type": "code",
      "source": [
        "import matplotlib.pyplot as plt\n",
        "\n",
        "ax = data_df.hist(\n",
        "    bins=50,\n",
        "    figsize=(20, 10),\n",
        "    color='skyblue',\n",
        "    edgecolor='black',\n",
        "    grid=False\n",
        ")\n",
        "\n",
        "\n",
        "for a in ax.ravel():\n",
        "    a.set_facecolor(\"#f9f9f9\")\n",
        "    a.grid(True, linestyle='--', alpha=0.5)\n",
        "    a.tick_params(axis='x', labelsize=10)\n",
        "    a.tick_params(axis='y', labelsize=10)\n",
        "    a.set_title(a.get_title(), fontsize=12, fontweight='bold')\n",
        "\n",
        "\n",
        "plt.suptitle(\"Feature Distributions\", fontsize=20, fontweight='bold', y=1.02)\n",
        "plt.tight_layout()\n",
        "plt.show()"
      ],
      "metadata": {
        "id": "2qrAK04Ql3Pr"
      },
      "execution_count": null,
      "outputs": []
    },
    {
      "cell_type": "code",
      "source": [
        "categorical_features=data_df.select_dtypes(include=['object']).columns.tolist()\n",
        "numerical_features=data_df.select_dtypes(include=[np.number]).columns.tolist()\n",
        "print(f\"Categorical Features: {categorical_features}\\n\")\n",
        "print(f\"Numerical Features: {numerical_features}\")"
      ],
      "metadata": {
        "id": "sHfIVo7GmLcD"
      },
      "execution_count": null,
      "outputs": []
    },
    {
      "cell_type": "code",
      "source": [
        "for col in categorical_features:\n",
        "  print(data_df[col].value_counts())\n",
        "  print()"
      ],
      "metadata": {
        "id": "lClpUM_omMNC"
      },
      "execution_count": null,
      "outputs": []
    },
    {
      "cell_type": "code",
      "source": [
        "import seaborn as sns\n",
        "\n",
        "for col in categorical_features:\n",
        "  plt.figure(figsize=(8,4))\n",
        "  sns.countplot(y=col,data=data_df,order=data_df[col].value_counts().index,palette='viridis')\n",
        "  plt.title(f\"Distribution of {col}\")\n",
        "  plt.tight_layout()\n",
        "  plt.show()"
      ],
      "metadata": {
        "id": "5nDaUv5smQaK"
      },
      "execution_count": null,
      "outputs": []
    },
    {
      "cell_type": "markdown",
      "source": [
        "## Handling Missing Data"
      ],
      "metadata": {
        "id": "488k1Bc6kxP0"
      }
    },
    {
      "cell_type": "code",
      "source": [
        "# Identifying the missing data\n",
        "\n",
        "data_df.isnull().sum()"
      ],
      "metadata": {
        "id": "11dlwBOvk3VR"
      },
      "execution_count": null,
      "outputs": []
    },
    {
      "cell_type": "code",
      "source": [
        "# Heatmap for missing values\n",
        "\n",
        "import seaborn as sns\n",
        "plt.figure(figsize=(12,6))\n",
        "sns.heatmap(data_df.isnull(),cbar=False)\n",
        "plt.title(\"Missing Values Heatmap\")\n",
        "plt.show()\n",
        "\n",
        "missing_counts=data_df.isnull().sum().sort_values(ascending=False)\n",
        "print(missing_counts[missing_counts>0])"
      ],
      "metadata": {
        "id": "9EyariG9mjes"
      },
      "execution_count": null,
      "outputs": []
    },
    {
      "cell_type": "code",
      "source": [
        "missing_counts=data_df.isnull().sum()\n",
        "missing_cols=missing_counts[missing_counts>0].sort_values(ascending=False)\n",
        "\n",
        "if len(missing_cols)==0:\n",
        "  print(\"No missing values in the dataset!\")\n",
        "else:\n",
        "  plt.figure(figsize=(10,6))\n",
        "  sns.barplot(x=missing_cols.index, y=missing_cols.values,palette='viridis')\n",
        "  plt.xticks(rotation=45,ha='right')\n",
        "  plt.ylabel('Number of Missing Values')\n",
        "  plt.title('Missing Values Count by Feature')\n",
        "  plt.tight_layout()\n",
        "  plt.show()"
      ],
      "metadata": {
        "id": "l11tgSc5mlAJ"
      },
      "execution_count": null,
      "outputs": []
    },
    {
      "cell_type": "code",
      "source": [
        "# Drop the missing values of the target variable(Mental Helth Status)\n",
        "\n",
        "data_df.dropna(subset=['Mental_Health_Status'],inplace=True)"
      ],
      "metadata": {
        "id": "ilIrXFBzmnWc"
      },
      "execution_count": null,
      "outputs": []
    },
    {
      "cell_type": "code",
      "source": [
        "data_df.isnull().sum()"
      ],
      "metadata": {
        "id": "zW77WRPOmzI4"
      },
      "execution_count": null,
      "outputs": []
    },
    {
      "cell_type": "code",
      "source": [
        "# data shape after removing the missing values of the target variable\n",
        "\n",
        "print(f\"\\nNumber of rows & columns after removing the missing values of the target variable: {data_df.shape}\")"
      ],
      "metadata": {
        "id": "s-M2R4a8m19Y"
      },
      "execution_count": null,
      "outputs": []
    },
    {
      "cell_type": "code",
      "source": [
        "# hetamap after removing the missing values of the target variable\n",
        "\n",
        "import seaborn as sns\n",
        "plt.figure(figsize=(12,6))\n",
        "sns.heatmap(data_df.isnull(),cbar=False)\n",
        "plt.title('Missing Values Heatmap')\n",
        "plt.show()\n",
        "\n",
        "\n",
        "missing_counts=data_df.isnull().sum().sort_values(ascending=False)\n",
        "print(missing_counts[missing_counts>0])"
      ],
      "metadata": {
        "id": "DpOloq1jm5AX"
      },
      "execution_count": null,
      "outputs": []
    },
    {
      "cell_type": "code",
      "source": [
        "missing_counts=data_df.isnull().sum()\n",
        "missing_cols=missing_counts[missing_counts>0].sort_values(ascending=False)\n",
        "\n",
        "if len(missing_cols)==0:\n",
        "  print(\"No missing values in the dataset!\")\n",
        "else:\n",
        "  plt.figure(figsize=(10,6))\n",
        "  sns.barplot(x=missing_cols.index, y=missing_cols.values,palette='viridis')\n",
        "  plt.xticks(rotation=45,ha='right')\n",
        "  plt.ylabel('Number of Missing Values')\n",
        "  plt.title('Missing Values Count by Feature')\n",
        "  plt.tight_layout()\n",
        "  plt.show()"
      ],
      "metadata": {
        "id": "NlTvBxeYm7LM"
      },
      "execution_count": null,
      "outputs": []
    },
    {
      "cell_type": "code",
      "source": [
        "data_df['Physical_Health_Issues'].value_counts()"
      ],
      "metadata": {
        "id": "3nMf5T0KnAwV"
      },
      "execution_count": null,
      "outputs": []
    },
    {
      "cell_type": "code",
      "source": [
        "X=data_df.drop(labels=['Physical_Health_Issues'],axis=1)\n",
        "y=data_df['Mental_Health_Status']"
      ],
      "metadata": {
        "id": "cXRx3ySHnE5Q"
      },
      "execution_count": null,
      "outputs": []
    },
    {
      "cell_type": "code",
      "source": [
        "numerical_features=X.select_dtypes(include=[np.number]).columns.tolist()"
      ],
      "metadata": {
        "id": "uypJ1NRenHZk"
      },
      "execution_count": null,
      "outputs": []
    },
    {
      "cell_type": "code",
      "source": [
        "test_dataframe=pd.DataFrame(X[numerical_features])"
      ],
      "metadata": {
        "id": "FUVMtfEknNgW"
      },
      "execution_count": null,
      "outputs": []
    },
    {
      "cell_type": "code",
      "source": [
        "test_dataframe['target']=data_df['Physical_Health_Issues']"
      ],
      "metadata": {
        "id": "ClLaYG8HnQs7"
      },
      "execution_count": null,
      "outputs": []
    },
    {
      "cell_type": "code",
      "source": [
        "test_dataframe.head()"
      ],
      "metadata": {
        "id": "MqRCgav_nS6r"
      },
      "execution_count": null,
      "outputs": []
    },
    {
      "cell_type": "code",
      "source": [
        "test_dataframe.isnull().sum()"
      ],
      "metadata": {
        "id": "srB3_ztBnVkR"
      },
      "execution_count": null,
      "outputs": []
    },
    {
      "cell_type": "code",
      "source": [
        "known=test_dataframe[test_dataframe['target'].notna()]\n",
        "missing=test_dataframe[test_dataframe['target'].isna()]"
      ],
      "metadata": {
        "id": "3_8aKq4enZug"
      },
      "execution_count": null,
      "outputs": []
    },
    {
      "cell_type": "code",
      "source": [
        "known.head()"
      ],
      "metadata": {
        "id": "_AB3sLMFncjM"
      },
      "execution_count": null,
      "outputs": []
    },
    {
      "cell_type": "code",
      "source": [
        "mis_X=known.drop('target',axis=1)\n",
        "mis_y=known['target']"
      ],
      "metadata": {
        "id": "VkxqjR52nerD"
      },
      "execution_count": null,
      "outputs": []
    },
    {
      "cell_type": "code",
      "source": [
        "from sklearn.ensemble import RandomForestClassifier\n",
        "\n",
        "model=RandomForestClassifier(random_state=42)\n",
        "model.fit(mis_X,mis_y)"
      ],
      "metadata": {
        "id": "Ih4g_gUNnhl4"
      },
      "execution_count": null,
      "outputs": []
    },
    {
      "cell_type": "code",
      "source": [
        "X_unknown=missing.drop('target',axis=1)\n",
        "predicted=model.predict(X_unknown)"
      ],
      "metadata": {
        "id": "YhTPB2lMnmTP"
      },
      "execution_count": null,
      "outputs": []
    },
    {
      "cell_type": "code",
      "source": [
        "test_dataframe.loc[test_dataframe['target'].isna(),'target']=predicted"
      ],
      "metadata": {
        "id": "DvLeYsganvKt"
      },
      "execution_count": null,
      "outputs": []
    },
    {
      "cell_type": "code",
      "source": [
        "data_df.drop('Physical_Health_Issues',axis=1,inplace=True)"
      ],
      "metadata": {
        "id": "bSEieGmioQbv"
      },
      "execution_count": null,
      "outputs": []
    },
    {
      "cell_type": "code",
      "source": [
        "data_df['Physical_Health_Issues']=test_dataframe['target']"
      ],
      "metadata": {
        "id": "3rPswa0UoSIF"
      },
      "execution_count": null,
      "outputs": []
    },
    {
      "cell_type": "code",
      "source": [
        "data_df.isnull().sum()"
      ],
      "metadata": {
        "id": "RemOm1wzoVpk"
      },
      "execution_count": null,
      "outputs": []
    },
    {
      "cell_type": "code",
      "source": [
        "data_df['Physical_Health_Issues'].value_counts()"
      ],
      "metadata": {
        "id": "EyIuAeWooYF0"
      },
      "execution_count": null,
      "outputs": []
    },
    {
      "cell_type": "code",
      "source": [
        "# After removing the missing values\n",
        "\n",
        "data_df.isnull().sum()\n",
        "\n"
      ],
      "metadata": {
        "id": "w_3NnxFJoaU1"
      },
      "execution_count": null,
      "outputs": []
    },
    {
      "cell_type": "code",
      "source": [],
      "metadata": {
        "id": "-ji8UpFrqJS0"
      },
      "execution_count": null,
      "outputs": []
    }
  ]
}