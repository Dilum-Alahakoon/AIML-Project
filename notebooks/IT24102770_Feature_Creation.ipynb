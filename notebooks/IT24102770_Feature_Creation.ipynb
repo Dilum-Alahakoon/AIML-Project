{
 "cells": [
  {
   "cell_type": "code",
   "execution_count": 56,
   "id": "bdeea47f-a7d4-4cec-b2c6-ad2088d2679b",
   "metadata": {},
   "outputs": [],
   "source": [
    "# Importing necessary libraries\n",
    "import pandas as pd\n",
    "import numpy as np\n",
    "import matplotlib.pyplot as plt\n",
    "import seaborn as sns"
   ]
  },
  {
   "cell_type": "code",
   "execution_count": 57,
   "id": "c499049c-636f-4384-906f-165855984989",
   "metadata": {},
   "outputs": [
    {
     "name": "stdout",
     "output_type": "stream",
     "text": [
      "Shape of the dataset: (2358, 14)\n",
      "Number of rows : 2358\n",
      "Number of columns : 14\n"
     ]
    }
   ],
   "source": [
    "file_path = '../data/raw/IT24104181.csv'\n",
    "df = pd.read_csv(file_path)\n",
    "\n",
    "# Shape of the dataset\n",
    "print(f\"Shape of the dataset: {df.shape}\")\n",
    "print(f\"Number of rows : {df.shape[0]}\")\n",
    "print(f\"Number of columns : {df.shape[1]}\")"
   ]
  },
  {
   "cell_type": "code",
   "execution_count": 58,
   "id": "3ec76021-61b9-464a-8d32-ff1b2d72de64",
   "metadata": {},
   "outputs": [
    {
     "name": "stdout",
     "output_type": "stream",
     "text": [
      "\n",
      "--- First 5 rows of the dataset: ---\n",
      "  Survey_Date  Age  Gender   Region               Industry          Job_Role  \\\n",
      "0  2025-06-01   27  Female     Asia  Professional Services      Data Analyst   \n",
      "1  2025-06-01   37  Female     Asia  Professional Services      Data Analyst   \n",
      "2  2025-06-01   32  Female   Africa              Education  Business Analyst   \n",
      "3  2025-06-01   40  Female   Europe              Education      Data Analyst   \n",
      "4  2025-06-01   52    Male  Oceania       Customer Service  Business Analyst   \n",
      "\n",
      "  Work_Arrangement  Hours_Per_Week Mental_Health_Status Burnout_Level  \\\n",
      "0           Onsite              64      Stress Disorder          High   \n",
      "1           Onsite              37      Stress Disorder          High   \n",
      "2           Onsite              36                 ADHD          High   \n",
      "3           Onsite              63                 ADHD        Medium   \n",
      "4           Onsite              61              Burnout        Medium   \n",
      "\n",
      "   Work_Life_Balance_Score  Social_Isolation_Score Salary_Range  \\\n",
      "0                        3                       2     $40K-60K   \n",
      "1                        4                       2    $80K-100K   \n",
      "2                        3                       2    $80K-100K   \n",
      "3                        1                       2     $60K-80K   \n",
      "4                        4                       3     $60K-80K   \n",
      "\n",
      "      Physical_Health_Issues  \n",
      "0   Shoulder Pain; Neck Pain  \n",
      "1                  Back Pain  \n",
      "2  Shoulder Pain; Eye Strain  \n",
      "3  Shoulder Pain; Eye Strain  \n",
      "4   Back Pain; Shoulder Pain  \n",
      "\n",
      "--- Dataset Info (Columns, Data Types, Non-null counts): ---\n",
      "<class 'pandas.core.frame.DataFrame'>\n",
      "RangeIndex: 2358 entries, 0 to 2357\n",
      "Data columns (total 14 columns):\n",
      " #   Column                   Non-Null Count  Dtype \n",
      "---  ------                   --------------  ----- \n",
      " 0   Survey_Date              2358 non-null   object\n",
      " 1   Age                      2358 non-null   int64 \n",
      " 2   Gender                   2358 non-null   object\n",
      " 3   Region                   2358 non-null   object\n",
      " 4   Industry                 2358 non-null   object\n",
      " 5   Job_Role                 2358 non-null   object\n",
      " 6   Work_Arrangement         2358 non-null   object\n",
      " 7   Hours_Per_Week           2358 non-null   int64 \n",
      " 8   Mental_Health_Status     2358 non-null   object\n",
      " 9   Burnout_Level            2358 non-null   object\n",
      " 10  Work_Life_Balance_Score  2358 non-null   int64 \n",
      " 11  Social_Isolation_Score   2358 non-null   int64 \n",
      " 12  Salary_Range             2358 non-null   object\n",
      " 13  Physical_Health_Issues   2358 non-null   object\n",
      "dtypes: int64(4), object(10)\n",
      "memory usage: 258.0+ KB\n"
     ]
    }
   ],
   "source": [
    "# Viewing the basic details of the dataset\n",
    "if 'df' in locals():\n",
    "    print(\"\\n--- First 5 rows of the dataset: ---\")\n",
    "    print(df.head())\n",
    "\n",
    "    print(\"\\n--- Dataset Info (Columns, Data Types, Non-null counts): ---\")\n",
    "    df.info()"
   ]
  },
  {
   "cell_type": "code",
   "execution_count": 59,
   "id": "805eaef6-c675-4af1-8d8b-406b265e18b0",
   "metadata": {},
   "outputs": [
    {
     "data": {
      "text/plain": [
       "Salary_Range\n",
       "$60K-80K      768\n",
       "$80K-100K     719\n",
       "$40K-60K      380\n",
       "$100K-120K    336\n",
       "$120K+        155\n",
       "Name: count, dtype: int64"
      ]
     },
     "execution_count": 59,
     "metadata": {},
     "output_type": "execute_result"
    }
   ],
   "source": [
    "df['Salary_Range'].value_counts()"
   ]
  },
  {
   "cell_type": "code",
   "execution_count": 60,
   "id": "8a623426-7aad-4295-96fd-217d37f935af",
   "metadata": {},
   "outputs": [],
   "source": [
    "df['Salary_Range_Clean'] = df['Salary_Range'].str.replace('$', '', regex=False).str.replace('K', '', regex=False).str.replace('+', '', regex=False)"
   ]
  },
  {
   "cell_type": "code",
   "execution_count": 61,
   "id": "db6ccb15-dbb1-4f52-8386-9424dee62f19",
   "metadata": {},
   "outputs": [
    {
     "name": "stdout",
     "output_type": "stream",
     "text": [
      "<class 'pandas.core.frame.DataFrame'>\n",
      "RangeIndex: 2358 entries, 0 to 2357\n",
      "Data columns (total 15 columns):\n",
      " #   Column                   Non-Null Count  Dtype \n",
      "---  ------                   --------------  ----- \n",
      " 0   Survey_Date              2358 non-null   object\n",
      " 1   Age                      2358 non-null   int64 \n",
      " 2   Gender                   2358 non-null   object\n",
      " 3   Region                   2358 non-null   object\n",
      " 4   Industry                 2358 non-null   object\n",
      " 5   Job_Role                 2358 non-null   object\n",
      " 6   Work_Arrangement         2358 non-null   object\n",
      " 7   Hours_Per_Week           2358 non-null   int64 \n",
      " 8   Mental_Health_Status     2358 non-null   object\n",
      " 9   Burnout_Level            2358 non-null   object\n",
      " 10  Work_Life_Balance_Score  2358 non-null   int64 \n",
      " 11  Social_Isolation_Score   2358 non-null   int64 \n",
      " 12  Salary_Range             2358 non-null   object\n",
      " 13  Physical_Health_Issues   2358 non-null   object\n",
      " 14  Salary_Range_Clean       2358 non-null   object\n",
      "dtypes: int64(4), object(11)\n",
      "memory usage: 276.5+ KB\n"
     ]
    }
   ],
   "source": [
    "df.info()"
   ]
  },
  {
   "cell_type": "code",
   "execution_count": 62,
   "id": "822e74ea-015b-43ef-88e0-601d1b754cac",
   "metadata": {},
   "outputs": [],
   "source": [
    "salary_split = df['Salary_Range_Clean'].str.split('-', expand=True)"
   ]
  },
  {
   "cell_type": "code",
   "execution_count": 63,
   "id": "12887917-e183-4048-a329-76593d4315c9",
   "metadata": {},
   "outputs": [],
   "source": [
    "min_salary = pd.to_numeric(salary_split[0])"
   ]
  },
  {
   "cell_type": "code",
   "execution_count": 64,
   "id": "4c3dcf42-89fd-451f-950f-a728877b7bcd",
   "metadata": {},
   "outputs": [],
   "source": [
    "max_salary = pd.to_numeric(salary_split[1]).fillna(min_salary)"
   ]
  },
  {
   "cell_type": "code",
   "execution_count": 65,
   "id": "f8c8ae42-13d4-40b3-9c76-6e5af7bf03c4",
   "metadata": {},
   "outputs": [],
   "source": [
    "df['Average_Salary'] = (min_salary + max_salary) / 2"
   ]
  },
  {
   "cell_type": "code",
   "execution_count": 66,
   "id": "7bf3d8fc-3e86-4159-8b43-c09a6b516985",
   "metadata": {},
   "outputs": [
    {
     "name": "stdout",
     "output_type": "stream",
     "text": [
      "<class 'pandas.core.frame.DataFrame'>\n",
      "RangeIndex: 2358 entries, 0 to 2357\n",
      "Data columns (total 16 columns):\n",
      " #   Column                   Non-Null Count  Dtype  \n",
      "---  ------                   --------------  -----  \n",
      " 0   Survey_Date              2358 non-null   object \n",
      " 1   Age                      2358 non-null   int64  \n",
      " 2   Gender                   2358 non-null   object \n",
      " 3   Region                   2358 non-null   object \n",
      " 4   Industry                 2358 non-null   object \n",
      " 5   Job_Role                 2358 non-null   object \n",
      " 6   Work_Arrangement         2358 non-null   object \n",
      " 7   Hours_Per_Week           2358 non-null   int64  \n",
      " 8   Mental_Health_Status     2358 non-null   object \n",
      " 9   Burnout_Level            2358 non-null   object \n",
      " 10  Work_Life_Balance_Score  2358 non-null   int64  \n",
      " 11  Social_Isolation_Score   2358 non-null   int64  \n",
      " 12  Salary_Range             2358 non-null   object \n",
      " 13  Physical_Health_Issues   2358 non-null   object \n",
      " 14  Salary_Range_Clean       2358 non-null   object \n",
      " 15  Average_Salary           2358 non-null   float64\n",
      "dtypes: float64(1), int64(4), object(11)\n",
      "memory usage: 294.9+ KB\n"
     ]
    }
   ],
   "source": [
    "df.info()"
   ]
  },
  {
   "cell_type": "code",
   "execution_count": 67,
   "id": "7a1e0ea1-8327-4559-811d-8638b5b5bde4",
   "metadata": {},
   "outputs": [
    {
     "name": "stdout",
     "output_type": "stream",
     "text": [
      "Successfully created 'Average_Salary' feature (with error fixed).\n",
      "  Survey_Date  Age  Gender   Region               Industry          Job_Role  \\\n",
      "0  2025-06-01   27  Female     Asia  Professional Services      Data Analyst   \n",
      "1  2025-06-01   37  Female     Asia  Professional Services      Data Analyst   \n",
      "2  2025-06-01   32  Female   Africa              Education  Business Analyst   \n",
      "3  2025-06-01   40  Female   Europe              Education      Data Analyst   \n",
      "4  2025-06-01   52    Male  Oceania       Customer Service  Business Analyst   \n",
      "\n",
      "  Work_Arrangement  Hours_Per_Week Mental_Health_Status Burnout_Level  \\\n",
      "0           Onsite              64      Stress Disorder          High   \n",
      "1           Onsite              37      Stress Disorder          High   \n",
      "2           Onsite              36                 ADHD          High   \n",
      "3           Onsite              63                 ADHD        Medium   \n",
      "4           Onsite              61              Burnout        Medium   \n",
      "\n",
      "   Work_Life_Balance_Score  Social_Isolation_Score     Physical_Health_Issues  \\\n",
      "0                        3                       2   Shoulder Pain; Neck Pain   \n",
      "1                        4                       2                  Back Pain   \n",
      "2                        3                       2  Shoulder Pain; Eye Strain   \n",
      "3                        1                       2  Shoulder Pain; Eye Strain   \n",
      "4                        4                       3   Back Pain; Shoulder Pain   \n",
      "\n",
      "   Average_Salary  \n",
      "0            50.0  \n",
      "1            90.0  \n",
      "2            90.0  \n",
      "3            70.0  \n",
      "4            70.0  \n"
     ]
    }
   ],
   "source": [
    "df = df.drop(columns=['Salary_Range', 'Salary_Range_Clean'])\n",
    "\n",
    "print(\"Successfully created 'Average_Salary' feature (with error fixed).\")\n",
    "print(df.head())"
   ]
  },
  {
   "cell_type": "code",
   "execution_count": 68,
   "id": "fadb93d0-edad-4ed3-a842-8f5e52dc9357",
   "metadata": {},
   "outputs": [],
   "source": [
    "df['Physical_Issue_Count'] = df['Physical_Health_Issues'].apply(lambda x: 0 if x == 'None' else len(x.split(';')))"
   ]
  },
  {
   "cell_type": "code",
   "execution_count": 69,
   "id": "11db88e7-934d-42e8-84ec-c459985f9e9b",
   "metadata": {},
   "outputs": [
    {
     "name": "stdout",
     "output_type": "stream",
     "text": [
      "\n",
      "Successfully created 'Physical_Issue_Count' feature.\n"
     ]
    }
   ],
   "source": [
    "print(\"\\nSuccessfully created 'Physical_Issue_Count' feature.\")"
   ]
  },
  {
   "cell_type": "code",
   "execution_count": 70,
   "id": "e0637107-1749-4942-b458-204964de01ca",
   "metadata": {},
   "outputs": [
    {
     "name": "stdout",
     "output_type": "stream",
     "text": [
      "      Physical_Health_Issues  Physical_Issue_Count\n",
      "0   Shoulder Pain; Neck Pain                     2\n",
      "1                  Back Pain                     1\n",
      "2  Shoulder Pain; Eye Strain                     2\n",
      "3  Shoulder Pain; Eye Strain                     2\n",
      "4   Back Pain; Shoulder Pain                     2\n"
     ]
    }
   ],
   "source": [
    "print(df[['Physical_Health_Issues', 'Physical_Issue_Count']].head())"
   ]
  },
  {
   "cell_type": "code",
   "execution_count": 71,
   "id": "b63523ff-a977-485d-a31c-3dd715871fb9",
   "metadata": {},
   "outputs": [
    {
     "name": "stdout",
     "output_type": "stream",
     "text": [
      "  Survey_Date  Age  Gender   Region               Industry          Job_Role  \\\n",
      "0  2025-06-01   27  Female     Asia  Professional Services      Data Analyst   \n",
      "1  2025-06-01   37  Female     Asia  Professional Services      Data Analyst   \n",
      "2  2025-06-01   32  Female   Africa              Education  Business Analyst   \n",
      "3  2025-06-01   40  Female   Europe              Education      Data Analyst   \n",
      "4  2025-06-01   52    Male  Oceania       Customer Service  Business Analyst   \n",
      "\n",
      "  Work_Arrangement  Hours_Per_Week Mental_Health_Status Burnout_Level  \\\n",
      "0           Onsite              64      Stress Disorder          High   \n",
      "1           Onsite              37      Stress Disorder          High   \n",
      "2           Onsite              36                 ADHD          High   \n",
      "3           Onsite              63                 ADHD        Medium   \n",
      "4           Onsite              61              Burnout        Medium   \n",
      "\n",
      "   Work_Life_Balance_Score  Social_Isolation_Score     Physical_Health_Issues  \\\n",
      "0                        3                       2   Shoulder Pain; Neck Pain   \n",
      "1                        4                       2                  Back Pain   \n",
      "2                        3                       2  Shoulder Pain; Eye Strain   \n",
      "3                        1                       2  Shoulder Pain; Eye Strain   \n",
      "4                        4                       3   Back Pain; Shoulder Pain   \n",
      "\n",
      "   Average_Salary  Physical_Issue_Count  \n",
      "0            50.0                     2  \n",
      "1            90.0                     1  \n",
      "2            90.0                     2  \n",
      "3            70.0                     2  \n",
      "4            70.0                     2  \n"
     ]
    }
   ],
   "source": [
    "print(df.head(5))"
   ]
  },
  {
   "cell_type": "code",
   "execution_count": 72,
   "id": "c8e59416-5a3a-4e6a-9920-d65c2861b87e",
   "metadata": {},
   "outputs": [
    {
     "data": {
      "text/plain": [
       "Index(['Survey_Date', 'Age', 'Gender', 'Region', 'Industry', 'Job_Role',\n",
       "       'Work_Arrangement', 'Hours_Per_Week', 'Mental_Health_Status',\n",
       "       'Burnout_Level', 'Work_Life_Balance_Score', 'Social_Isolation_Score',\n",
       "       'Physical_Health_Issues', 'Average_Salary', 'Physical_Issue_Count'],\n",
       "      dtype='object')"
      ]
     },
     "execution_count": 72,
     "metadata": {},
     "output_type": "execute_result"
    }
   ],
   "source": [
    "df.columns"
   ]
  },
  {
   "cell_type": "code",
   "execution_count": 73,
   "id": "64606ab8-8437-4feb-a53f-ec9297eba8b3",
   "metadata": {},
   "outputs": [
    {
     "name": "stdout",
     "output_type": "stream",
     "text": [
      "<class 'pandas.core.frame.DataFrame'>\n",
      "RangeIndex: 2358 entries, 0 to 2357\n",
      "Data columns (total 15 columns):\n",
      " #   Column                   Non-Null Count  Dtype  \n",
      "---  ------                   --------------  -----  \n",
      " 0   Survey_Date              2358 non-null   object \n",
      " 1   Age                      2358 non-null   int64  \n",
      " 2   Gender                   2358 non-null   object \n",
      " 3   Region                   2358 non-null   object \n",
      " 4   Industry                 2358 non-null   object \n",
      " 5   Job_Role                 2358 non-null   object \n",
      " 6   Work_Arrangement         2358 non-null   object \n",
      " 7   Hours_Per_Week           2358 non-null   int64  \n",
      " 8   Mental_Health_Status     2358 non-null   object \n",
      " 9   Burnout_Level            2358 non-null   object \n",
      " 10  Work_Life_Balance_Score  2358 non-null   int64  \n",
      " 11  Social_Isolation_Score   2358 non-null   int64  \n",
      " 12  Physical_Health_Issues   2358 non-null   object \n",
      " 13  Average_Salary           2358 non-null   float64\n",
      " 14  Physical_Issue_Count     2358 non-null   int64  \n",
      "dtypes: float64(1), int64(5), object(9)\n",
      "memory usage: 276.5+ KB\n"
     ]
    }
   ],
   "source": [
    "df.info()"
   ]
  },
  {
   "cell_type": "code",
   "execution_count": null,
   "id": "a68b2411-f05d-45b6-8fa4-5385e7d3f528",
   "metadata": {},
   "outputs": [],
   "source": []
  }
 ],
 "metadata": {
  "kernelspec": {
   "display_name": "Python 3 (ipykernel)",
   "language": "python",
   "name": "python3"
  },
  "language_info": {
   "codemirror_mode": {
    "name": "ipython",
    "version": 3
   },
   "file_extension": ".py",
   "mimetype": "text/x-python",
   "name": "python",
   "nbconvert_exporter": "python",
   "pygments_lexer": "ipython3",
   "version": "3.13.7"
  }
 },
 "nbformat": 4,
 "nbformat_minor": 5
}
